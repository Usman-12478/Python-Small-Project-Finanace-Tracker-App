{
  "metadata": {
    "kernelspec": {
      "language": "python",
      "display_name": "Python 3",
      "name": "python3"
    },
    "language_info": {
      "name": "python",
      "version": "3.10.14",
      "mimetype": "text/x-python",
      "codemirror_mode": {
        "name": "ipython",
        "version": 3
      },
      "pygments_lexer": "ipython3",
      "nbconvert_exporter": "python",
      "file_extension": ".py"
    },
    "kaggle": {
      "accelerator": "none",
      "dataSources": [],
      "dockerImageVersionId": 30786,
      "isInternetEnabled": true,
      "language": "python",
      "sourceType": "notebook",
      "isGpuEnabled": false
    },
    "colab": {
      "name": "Python Small Project | Finance Tracker App",
      "provenance": [],
      "include_colab_link": true
    }
  },
  "nbformat_minor": 0,
  "nbformat": 4,
  "cells": [
    {
      "cell_type": "markdown",
      "metadata": {
        "id": "view-in-github",
        "colab_type": "text"
      },
      "source": [
        "<a href=\"https://colab.research.google.com/github/Usman-12478/Python-Small-Project-Finanace-Tracker-App/blob/main/Python%20Small%20Project%20%7C%20Finance%20Tracker%20App.ipynb\" target=\"_parent\"><img src=\"https://colab.research.google.com/assets/colab-badge.svg\" alt=\"Open In Colab\"/></a>"
      ]
    },
    {
      "cell_type": "code",
      "source": [
        "class Expense:\n",
        "    def __init__(self, date, description, amount):\n",
        "        self.date = date\n",
        "        self.description = description\n",
        "        self.amount = amount\n",
        ""
      ],
      "metadata": {
        "_uuid": "8f2839f25d086af736a60e9eeb907d3b93b6e0e5",
        "_cell_guid": "b1076dfc-b9ad-4769-8c92-a6c4dae69d19",
        "execution": {
          "iopub.status.busy": "2024-10-05T10:49:20.045401Z",
          "iopub.execute_input": "2024-10-05T10:49:20.045847Z",
          "iopub.status.idle": "2024-10-05T10:49:20.051834Z",
          "shell.execute_reply.started": "2024-10-05T10:49:20.045794Z",
          "shell.execute_reply": "2024-10-05T10:49:20.050522Z"
        },
        "trusted": true,
        "id": "-M-oTjLsbORz"
      },
      "execution_count": 1,
      "outputs": []
    },
    {
      "cell_type": "code",
      "source": [
        "class ExpenseTracker:\n",
        "    def __init__(self):\n",
        "        self.expenses = []\n",
        "\n",
        "    def add_expense(self, expense):\n",
        "        self.expenses.append(expense)\n",
        "\n",
        "    def remove_expense(self, index):\n",
        "        if 0 <= index < len(self.expenses):\n",
        "            del self.expenses[index]\n",
        "            print('Expense Removed Successfully!!')\n",
        "        else:\n",
        "            print('Invalid Index. Please Enter The Right Index.')\n",
        "\n",
        "    def view_expense(self):\n",
        "        if len(self.expenses) == 0:\n",
        "            print('No Expense Available!')\n",
        "        else:\n",
        "            print(\"Expense List:\")\n",
        "            for i, expense in enumerate(self.expenses, 1):\n",
        "                print(f'{i}. Date: {expense.date}, Description: {expense.description}, Amount Rs/- {expense.amount:.2f}')\n",
        "\n",
        "\n",
        "    def total_expense(self):\n",
        "        total = sum(expense.amount for expense in self.expenses)\n",
        "        print(f'Total Amount Rs/- {total:.2f}')\n",
        ""
      ],
      "metadata": {
        "execution": {
          "iopub.status.busy": "2024-10-05T11:04:07.283752Z",
          "iopub.execute_input": "2024-10-05T11:04:07.28421Z",
          "iopub.status.idle": "2024-10-05T11:04:07.294219Z",
          "shell.execute_reply.started": "2024-10-05T11:04:07.284168Z",
          "shell.execute_reply": "2024-10-05T11:04:07.293063Z"
        },
        "trusted": true,
        "id": "OEGoDNJbbOR-"
      },
      "execution_count": 2,
      "outputs": []
    },
    {
      "cell_type": "code",
      "source": [
        "def main():\n",
        "    tracker = ExpenseTracker()\n",
        "    while True:\n",
        "        print(\"\\nExpense Tracker App!!\")\n",
        "        print(\"1. Add Expense\")\n",
        "        print(\"2. Remove Expense\")\n",
        "        print(\"3. View Expenses\")\n",
        "        print(\"4. Total Expenses\")\n",
        "        print(\"5. Exit\")\n",
        "\n",
        "        choice = input('Enter Your Choice (1-5): ')\n",
        "\n",
        "        if choice == \"1\":\n",
        "            date = input('Enter The Date (YYYY-MM-DD): ')\n",
        "            description = input('Enter The Description: ')\n",
        "            amount = int(input('Enter The Amount: '))\n",
        "            expense = Expense(date, description, amount)\n",
        "            tracker.add_expense(expense)\n",
        "            print('Expense Is Added Successfully!')\n",
        "        elif choice == \"2\":\n",
        "            index = int(input('Please Enter The Index To Remove: ')) - 1\n",
        "            tracker.remove_expense(index)\n",
        "        elif choice == \"3\":\n",
        "            tracker.view_expense()\n",
        "        elif choice == \"4\":\n",
        "            tracker.total_expense()\n",
        "        elif choice == \"5\":\n",
        "            print('GoodBye!!!')\n",
        "            break\n",
        "        else:\n",
        "            print(\"Invalid Choice. Please Try Again.\")\n",
        "\n",
        "\n",
        "if __name__ == \"__main__\":\n",
        "    main()"
      ],
      "metadata": {
        "execution": {
          "iopub.status.busy": "2024-10-05T11:06:55.051812Z",
          "iopub.execute_input": "2024-10-05T11:06:55.052938Z",
          "iopub.status.idle": "2024-10-05T11:09:03.731Z",
          "shell.execute_reply.started": "2024-10-05T11:06:55.052887Z",
          "shell.execute_reply": "2024-10-05T11:09:03.729825Z"
        },
        "trusted": true,
        "id": "XDtr5DKBbOSB",
        "outputId": "9fb0a5ff-01c4-4e92-ec8c-c6d513c2cad5",
        "colab": {
          "base_uri": "https://localhost:8080/"
        }
      },
      "execution_count": 3,
      "outputs": [
        {
          "output_type": "stream",
          "name": "stdout",
          "text": [
            "\n",
            "Expense Tracker App!!\n",
            "1. Add Expense\n",
            "2. Remove Expense\n",
            "3. View Expenses\n",
            "4. Total Expenses\n",
            "5. Exit\n",
            "Enter Your Choice (1-5): 1\n",
            "Enter The Date (YYYY-MM-DD): 2024-09-06\n",
            "Enter The Description: University Fees\n",
            "Enter The Amount: 48000\n",
            "Expense Is Added Successfully!\n",
            "\n",
            "Expense Tracker App!!\n",
            "1. Add Expense\n",
            "2. Remove Expense\n",
            "3. View Expenses\n",
            "4. Total Expenses\n",
            "5. Exit\n",
            "Enter Your Choice (1-5): 1\n",
            "Enter The Date (YYYY-MM-DD): 2024-09-08\n",
            "Enter The Description: Python Course Fees\n",
            "Enter The Amount: 30000\n",
            "Expense Is Added Successfully!\n",
            "\n",
            "Expense Tracker App!!\n",
            "1. Add Expense\n",
            "2. Remove Expense\n",
            "3. View Expenses\n",
            "4. Total Expenses\n",
            "5. Exit\n",
            "Enter Your Choice (1-5): 1\n",
            "Enter The Date (YYYY-MM-DD): 2024-09-09\n",
            "Enter The Description: Shopping\n",
            "Enter The Amount: 20000\n",
            "Expense Is Added Successfully!\n",
            "\n",
            "Expense Tracker App!!\n",
            "1. Add Expense\n",
            "2. Remove Expense\n",
            "3. View Expenses\n",
            "4. Total Expenses\n",
            "5. Exit\n",
            "Enter Your Choice (1-5): 3\n",
            "Expense List:\n",
            "1. Date: 2024-09-06, Description: University Fees, Amount Rs/- 48000.00\n",
            "2. Date: 2024-09-08, Description: Python Course Fees, Amount Rs/- 30000.00\n",
            "3. Date: 2024-09-09, Description: Shopping, Amount Rs/- 20000.00\n",
            "\n",
            "Expense Tracker App!!\n",
            "1. Add Expense\n",
            "2. Remove Expense\n",
            "3. View Expenses\n",
            "4. Total Expenses\n",
            "5. Exit\n",
            "Enter Your Choice (1-5): 4\n",
            "Total Amount Rs/- 98000.00\n",
            "\n",
            "Expense Tracker App!!\n",
            "1. Add Expense\n",
            "2. Remove Expense\n",
            "3. View Expenses\n",
            "4. Total Expenses\n",
            "5. Exit\n",
            "Enter Your Choice (1-5): 2\n",
            "Please Enter The Index To Remove: 1\n",
            "Expense Removed Successfully!!\n",
            "\n",
            "Expense Tracker App!!\n",
            "1. Add Expense\n",
            "2. Remove Expense\n",
            "3. View Expenses\n",
            "4. Total Expenses\n",
            "5. Exit\n",
            "Enter Your Choice (1-5): 3\n",
            "Expense List:\n",
            "1. Date: 2024-09-08, Description: Python Course Fees, Amount Rs/- 30000.00\n",
            "2. Date: 2024-09-09, Description: Shopping, Amount Rs/- 20000.00\n",
            "\n",
            "Expense Tracker App!!\n",
            "1. Add Expense\n",
            "2. Remove Expense\n",
            "3. View Expenses\n",
            "4. Total Expenses\n",
            "5. Exit\n",
            "Enter Your Choice (1-5): 4\n",
            "Total Amount Rs/- 50000.00\n",
            "\n",
            "Expense Tracker App!!\n",
            "1. Add Expense\n",
            "2. Remove Expense\n",
            "3. View Expenses\n",
            "4. Total Expenses\n",
            "5. Exit\n",
            "Enter Your Choice (1-5): 9\n",
            "Invalid Choice. Please Try Again.\n",
            "\n",
            "Expense Tracker App!!\n",
            "1. Add Expense\n",
            "2. Remove Expense\n",
            "3. View Expenses\n",
            "4. Total Expenses\n",
            "5. Exit\n",
            "Enter Your Choice (1-5): 5\n",
            "GoodBye!!!\n"
          ]
        }
      ]
    },
    {
      "cell_type": "code",
      "source": [],
      "metadata": {
        "id": "FLI9iVFzbOSD"
      },
      "execution_count": null,
      "outputs": []
    }
  ]
}